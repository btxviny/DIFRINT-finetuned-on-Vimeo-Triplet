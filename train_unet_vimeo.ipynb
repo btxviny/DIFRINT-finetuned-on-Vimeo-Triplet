{
 "cells": [
  {
   "cell_type": "code",
   "execution_count": 1,
   "metadata": {},
   "outputs": [],
   "source": [
    "import torch\n",
    "import torch.nn as nn\n",
    "import torch.nn.functional as F\n",
    "import torchvision.models as models\n",
    "\n",
    "import numpy as np\n",
    "import cv2\n",
    "import os\n",
    "import sys\n",
    "\n",
    "from PWC_src import PWC_Net, flow_to_image\n",
    "from PWC_src.pwc import FlowEstimate\n",
    "\n",
    "import warnings\n",
    "warnings.filterwarnings(\"ignore\")\n",
    "device = 'cuda'\n",
    "starting_epoch = 0"
   ]
  },
  {
   "cell_type": "code",
   "execution_count": 2,
   "metadata": {},
   "outputs": [],
   "source": [
    "def dense_warp(image, flow):\n",
    "    \"\"\"\n",
    "    Densely warps an image using optical flow.\n",
    "\n",
    "    Args:\n",
    "        image (torch.Tensor): Input image tensor of shape (batch_size, channels, height, width).\n",
    "        flow (torch.Tensor): Optical flow tensor of shape (batch_size, 2, height, width).\n",
    "\n",
    "    Returns:\n",
    "        torch.Tensor: Warped image tensor of shape (batch_size, channels, height, width).\n",
    "    \"\"\"\n",
    "    batch_size, channels, height, width = image.size()\n",
    "\n",
    "    # Generate a grid of pixel coordinates based on the optical flow\n",
    "    grid_y, grid_x = torch.meshgrid(torch.arange(height), torch.arange(width))\n",
    "    grid = torch.stack((grid_x, grid_y), dim=-1).to(image.device)\n",
    "    grid = grid.unsqueeze(0).expand(batch_size, -1, -1, -1)\n",
    "    new_grid = grid + flow.permute(0, 2, 3, 1)\n",
    "\n",
    "    # Normalize the grid coordinates between -1 and 1\n",
    "    new_grid /= torch.tensor([width - 1, height - 1], dtype=torch.float32, device=image.device)\n",
    "    new_grid = new_grid * 2 - 1\n",
    "    # Perform the dense warp using grid_sample\n",
    "    warped_image = F.grid_sample(image, new_grid, align_corners=True)\n",
    "\n",
    "    return warped_image"
   ]
  },
  {
   "cell_type": "code",
   "execution_count": 3,
   "metadata": {},
   "outputs": [],
   "source": [
    "from models import ResNet, UNet\n",
    "class DIFRINT(nn.Module):\n",
    "    def __init__(self):\n",
    "        super(DIFRINT,self).__init__()\n",
    "        #self.resnet = ResNet(hidden_size=64).to(device).train()\n",
    "        self.unet = UNet(hidden_size=64).to(device).train()\n",
    "        self.pwc = PWC_Net('./ckpt/sintel.pytorch').to(device).eval()\n",
    "\n",
    "    def get_flow(self,img1,img2):\n",
    "        img1_t = (img1 + 1) / 2 \n",
    "        img2_t = (img2 + 1) / 2 \n",
    "        flow = FlowEstimate(img1_t,img2_t, self.pwc)\n",
    "        return flow.detach()\n",
    "    \n",
    "    def forward(self, ft_minus, ft, ft_plus):\n",
    "        with torch.no_grad():\n",
    "            flo1 = self.get_flow(ft_minus, ft)\n",
    "            flo2 = self.get_flow(ft_plus, ft)\n",
    "            warped1 = dense_warp(ft_minus,flo1)\n",
    "            warped2 = dense_warp(ft_plus,flo2)\n",
    "        fint = self.unet(warped1, warped2, flo1, flo2, ft_minus, ft_plus)\n",
    "        '''flo3 = self.get_flow(ft,fint)\n",
    "        warped3 = dense_warp(ft,flo3)\n",
    "        fout = self.resnet(fint, warped3,flo3, ft)'''\n",
    "        return fint #,fout\n"
   ]
  },
  {
   "cell_type": "code",
   "execution_count": 4,
   "metadata": {},
   "outputs": [
    {
     "data": {
      "text/plain": [
       "Sequential(\n",
       "  (0): Conv2d(3, 64, kernel_size=(3, 3), stride=(1, 1), padding=(1, 1))\n",
       "  (1): ReLU(inplace=True)\n",
       "  (2): Conv2d(64, 64, kernel_size=(3, 3), stride=(1, 1), padding=(1, 1))\n",
       "  (3): ReLU(inplace=True)\n",
       "  (4): MaxPool2d(kernel_size=2, stride=2, padding=0, dilation=1, ceil_mode=False)\n",
       "  (5): Conv2d(64, 128, kernel_size=(3, 3), stride=(1, 1), padding=(1, 1))\n",
       "  (6): ReLU(inplace=True)\n",
       "  (7): Conv2d(128, 128, kernel_size=(3, 3), stride=(1, 1), padding=(1, 1))\n",
       "  (8): ReLU(inplace=True)\n",
       "  (9): MaxPool2d(kernel_size=2, stride=2, padding=0, dilation=1, ceil_mode=False)\n",
       "  (10): Conv2d(128, 256, kernel_size=(3, 3), stride=(1, 1), padding=(1, 1))\n",
       "  (11): ReLU(inplace=True)\n",
       "  (12): Conv2d(256, 256, kernel_size=(3, 3), stride=(1, 1), padding=(1, 1))\n",
       "  (13): ReLU(inplace=True)\n",
       "  (14): Conv2d(256, 256, kernel_size=(3, 3), stride=(1, 1), padding=(1, 1))\n",
       "  (15): ReLU(inplace=True)\n",
       "  (16): Conv2d(256, 256, kernel_size=(3, 3), stride=(1, 1), padding=(1, 1))\n",
       "  (17): ReLU(inplace=True)\n",
       "  (18): MaxPool2d(kernel_size=2, stride=2, padding=0, dilation=1, ceil_mode=False)\n",
       "  (19): Conv2d(256, 512, kernel_size=(3, 3), stride=(1, 1), padding=(1, 1))\n",
       "  (20): ReLU(inplace=True)\n",
       "  (21): Conv2d(512, 512, kernel_size=(3, 3), stride=(1, 1), padding=(1, 1))\n",
       "  (22): ReLU(inplace=True)\n",
       "  (23): Conv2d(512, 512, kernel_size=(3, 3), stride=(1, 1), padding=(1, 1))\n",
       "  (24): ReLU(inplace=True)\n",
       "  (25): Conv2d(512, 512, kernel_size=(3, 3), stride=(1, 1), padding=(1, 1))\n",
       "  (26): ReLU(inplace=True)\n",
       "  (27): MaxPool2d(kernel_size=2, stride=2, padding=0, dilation=1, ceil_mode=False)\n",
       "  (28): Conv2d(512, 512, kernel_size=(3, 3), stride=(1, 1), padding=(1, 1))\n",
       "  (29): ReLU(inplace=True)\n",
       "  (30): Conv2d(512, 512, kernel_size=(3, 3), stride=(1, 1), padding=(1, 1))\n",
       "  (31): ReLU(inplace=True)\n",
       "  (32): Conv2d(512, 512, kernel_size=(3, 3), stride=(1, 1), padding=(1, 1))\n",
       "  (33): ReLU(inplace=True)\n",
       "  (34): Conv2d(512, 512, kernel_size=(3, 3), stride=(1, 1), padding=(1, 1))\n",
       "  (35): ReLU(inplace=True)\n",
       ")"
      ]
     },
     "execution_count": 4,
     "metadata": {},
     "output_type": "execute_result"
    }
   ],
   "source": [
    "difrint = DIFRINT().train().to(device)\n",
    "optimizer = torch.optim.Adam(difrint.parameters(), lr=1e-4,betas=(0.9, 0.99))\n",
    "state_dict = torch.load('./unet_davis_base.pth')\n",
    "difrint.unet.load_state_dict(state_dict['model'])\n",
    "vgg19 = models.vgg19(weights='IMAGENET1K_V1')\n",
    "vgg19 = nn.Sequential(*list(vgg19.children())[0][:-1]) # use all layers up to relu3_3\n",
    "vgg19.eval()\n",
    "vgg19.to(device)"
   ]
  },
  {
   "cell_type": "code",
   "execution_count": 5,
   "metadata": {},
   "outputs": [],
   "source": [
    "def perceptual_loss(img1, img2):\n",
    "    b,c,h,w = img1.shape\n",
    "    epsilon = 1e-8\n",
    "    #with torch.no_grad():\n",
    "    x = vgg19(img1)\n",
    "    y = vgg19(img2)\n",
    "    x_norm = x / (torch.sqrt(torch.sum(x**2, dim=1, keepdim=True)) + epsilon)\n",
    "    y_norm = y / (torch.sqrt(torch.sum(y**2, dim=1, keepdim=True)) + epsilon)\n",
    "    return torch.sqrt(torch.sum((x_norm - y_norm + epsilon)**2)) ** 2 / (c*h*w)\n",
    "\n",
    "l1_loss = nn.L1Loss()"
   ]
  },
  {
   "cell_type": "code",
   "execution_count": 6,
   "metadata": {},
   "outputs": [
    {
     "name": "stdout",
     "output_type": "stream",
     "text": [
      "Loaded UNet unet_2.pth\n"
     ]
    }
   ],
   "source": [
    "unet_path = './ckpts/unet/'\n",
    "# Load UNet checkpoints\n",
    "ckpts = os.listdir(unet_path)\n",
    "if ckpts:\n",
    "    ckpts = sorted(ckpts, key=lambda x: int(x.split('.')[0].split('_')[1]))\n",
    "    latest = ckpts[-1]\n",
    "    state_dict = torch.load(os.path.join(unet_path, latest))\n",
    "    starting_epoch = state_dict['epoch'] + 1\n",
    "    optimizer.load_state_dict(state_dict['optimizer'])\n",
    "    difrint.unet.load_state_dict(state_dict['model'])\n",
    "    print(f'Loaded UNet {latest}')\n",
    "optimizer = torch.optim.Adam(difrint.parameters(), lr=1e-4,betas=(0.9, 0.99))"
   ]
  },
  {
   "cell_type": "code",
   "execution_count": 7,
   "metadata": {},
   "outputs": [],
   "source": [
    "from vimeo90k import get_loader\n",
    "train_ds = get_loader(mode = 'train', data_root = 'E:/Datasets/vimeo_triplet/vimeo_triplet/',\\\n",
    "                    batch_size = 2, shuffle = True, num_workers = 1)"
   ]
  },
  {
   "cell_type": "code",
   "execution_count": 8,
   "metadata": {},
   "outputs": [],
   "source": [
    "from torch.utils.tensorboard import SummaryWriter\n",
    "\n",
    "# default `log_dir` is \"runs\" - we'll be more specific here\n",
    "writer = SummaryWriter('runs/vimeo/unet')"
   ]
  },
  {
   "cell_type": "code",
   "execution_count": 9,
   "metadata": {},
   "outputs": [
    {
     "name": "stdout",
     "output_type": "stream",
     "text": [
      "epoch: 3, batch: 15,running_loss: 0.03051201906055212"
     ]
    },
    {
     "ename": "KeyboardInterrupt",
     "evalue": "",
     "output_type": "error",
     "traceback": [
      "\u001b[1;31m---------------------------------------------------------------------------\u001b[0m",
      "\u001b[1;31mKeyboardInterrupt\u001b[0m                         Traceback (most recent call last)",
      "Cell \u001b[1;32mIn[9], line 20\u001b[0m\n\u001b[0;32m     17\u001b[0m total_loss\u001b[38;5;241m.\u001b[39mbackward()\n\u001b[0;32m     18\u001b[0m optimizer\u001b[38;5;241m.\u001b[39mstep()\n\u001b[1;32m---> 20\u001b[0m img1 \u001b[38;5;241m=\u001b[39m \u001b[43mft_minus\u001b[49m\u001b[43m[\u001b[49m\u001b[38;5;241;43m0\u001b[39;49m\u001b[43m,\u001b[49m\u001b[38;5;241;43m.\u001b[39;49m\u001b[38;5;241;43m.\u001b[39;49m\u001b[38;5;241;43m.\u001b[39;49m\u001b[43m]\u001b[49m\u001b[38;5;241;43m.\u001b[39;49m\u001b[43mcpu\u001b[49m\u001b[43m(\u001b[49m\u001b[43m)\u001b[49m\u001b[38;5;241m.\u001b[39mpermute(\u001b[38;5;241m1\u001b[39m,\u001b[38;5;241m2\u001b[39m,\u001b[38;5;241m0\u001b[39m)\u001b[38;5;241m.\u001b[39mnumpy()\n\u001b[0;32m     21\u001b[0m img1 \u001b[38;5;241m=\u001b[39m ((img1 \u001b[38;5;241m+\u001b[39m \u001b[38;5;241m1\u001b[39m)\u001b[38;5;241m/\u001b[39m\u001b[38;5;241m2\u001b[39m \u001b[38;5;241m*\u001b[39m \u001b[38;5;241m255\u001b[39m)\u001b[38;5;241m.\u001b[39mastype(np\u001b[38;5;241m.\u001b[39muint8)\n\u001b[0;32m     22\u001b[0m img1 \u001b[38;5;241m=\u001b[39m cv2\u001b[38;5;241m.\u001b[39mcvtColor(img1,cv2\u001b[38;5;241m.\u001b[39mCOLOR_RGB2BGR)\n",
      "\u001b[1;31mKeyboardInterrupt\u001b[0m: "
     ]
    }
   ],
   "source": [
    "dataset_len = 6028\n",
    "EPOCHS = 200\n",
    "running_loss = 0.0 \n",
    "cv2.namedWindow('window',cv2.WINDOW_NORMAL)\n",
    "for epoch in range(starting_epoch,EPOCHS):\n",
    "    for idx,data in enumerate(train_ds):\n",
    "        if epoch > 100:\n",
    "            for param_group in optimizer.param_groups:\n",
    "                param_group['lr'] = 1e-4 - 1e-6 * (epoch - 100)\n",
    "        ft_minus, ft, ft_plus = data\n",
    "        ft_minus = ft_minus.cuda()\n",
    "        ft = ft.cuda()\n",
    "        ft_plus = ft_plus.cuda()\n",
    "        fint = difrint(ft_minus, ft, ft_plus)\n",
    "        optimizer.zero_grad()\n",
    "        total_loss = l1_loss(ft,fint) +  perceptual_loss(ft,fint)\n",
    "        total_loss.backward()\n",
    "        optimizer.step()\n",
    "\n",
    "        img1 = ft_minus[0,...].cpu().permute(1,2,0).numpy()\n",
    "        img1 = ((img1 + 1)/2 * 255).astype(np.uint8)\n",
    "        img1 = cv2.cvtColor(img1,cv2.COLOR_RGB2BGR)\n",
    "        img2 = fint[0,...].cpu().detach().permute(1,2,0).numpy()\n",
    "        img2 = ((img2 + 1)/2 *255).astype(np.uint8)\n",
    "        img2 = cv2.cvtColor(img2,cv2.COLOR_RGB2BGR)\n",
    "        img3 = ft_plus[0,...].cpu().detach().permute(1,2,0).numpy()\n",
    "        img3 = ((img3 + 1)/2 * 255).astype(np.uint8)\n",
    "        img3 = cv2.cvtColor(img3,cv2.COLOR_RGB2BGR)\n",
    "        img4 = ft[0,...].cpu().detach().permute(1,2,0).numpy()\n",
    "        img4 = ((img4 + 1)/2 *255).astype(np.uint8)\n",
    "        img4 = cv2.cvtColor(img4,cv2.COLOR_RGB2BGR)\n",
    "        concatenated = cv2.hconcat([img1,img2,img3,img4])\n",
    "        cv2.imshow('window',concatenated)\n",
    "        if cv2.waitKey(1) & 0xFF == ord('9'):\n",
    "            break\n",
    "        running_loss += total_loss.item()\n",
    "        if idx % 100 == 99:\n",
    "            writer.add_scalar('training_loss',\n",
    "                              running_loss / 100,\n",
    "                              epoch * dataset_len + idx)\n",
    "            running_loss = 0.0\n",
    "\n",
    "            model_path = os.path.join(unet_path,f'unet_{epoch}.pth')\n",
    "            torch.save({'model': difrint.unet.state_dict(),\n",
    "                        'optimizer' : optimizer.state_dict(),\n",
    "                        'epoch' : epoch}\n",
    "                    ,model_path)\n",
    "        print(f'\\repoch: {epoch}, batch: {idx},running_loss: {running_loss / (idx % 100 + 1)}',end = '')"
   ]
  },
  {
   "cell_type": "code",
   "execution_count": null,
   "metadata": {},
   "outputs": [],
   "source": []
  }
 ],
 "metadata": {
  "kernelspec": {
   "display_name": "DUTCode",
   "language": "python",
   "name": "python3"
  },
  "language_info": {
   "codemirror_mode": {
    "name": "ipython",
    "version": 3
   },
   "file_extension": ".py",
   "mimetype": "text/x-python",
   "name": "python",
   "nbconvert_exporter": "python",
   "pygments_lexer": "ipython3",
   "version": "3.9.16"
  }
 },
 "nbformat": 4,
 "nbformat_minor": 2
}
